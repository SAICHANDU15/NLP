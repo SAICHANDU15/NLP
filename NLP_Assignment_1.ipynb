{
  "nbformat": 4,
  "nbformat_minor": 0,
  "metadata": {
    "colab": {
      "name": "NLP-Assignment-1.ipynb",
      "provenance": [],
      "authorship_tag": "ABX9TyODuwntpaT8VW9dvRFCiaWZ",
      "include_colab_link": true
    },
    "kernelspec": {
      "name": "python3",
      "display_name": "Python 3"
    },
    "language_info": {
      "name": "python"
    }
  },
  "cells": [
    {
      "cell_type": "markdown",
      "metadata": {
        "id": "view-in-github",
        "colab_type": "text"
      },
      "source": [
        "<a href=\"https://colab.research.google.com/github/SAICHANDU15/NLP/blob/main/NLP_Assignment_1.ipynb\" target=\"_parent\"><img src=\"https://colab.research.google.com/assets/colab-badge.svg\" alt=\"Open In Colab\"/></a>"
      ]
    },
    {
      "cell_type": "markdown",
      "source": [
        "**PARAGRAPH**-\n",
        "\n",
        "Are you fascinated by the amount of text data available on the internet? Are you looking for \n",
        "ways to work with this text data but aren’t sure where to begin? Machines, after all, recognize \n",
        "numbers,  not  the  letters  of  our  language.  And  that  can  be  a  tricky  landscape  to  navigate  in \n",
        "machine learning."
      ],
      "metadata": {
        "id": "rLHAUzokN3QO"
      }
    },
    {
      "cell_type": "markdown",
      "source": [
        "**1. Split the above paragraph into sentences**"
      ],
      "metadata": {
        "id": "YFBI2h-6O_m0"
      }
    },
    {
      "cell_type": "code",
      "execution_count": 36,
      "metadata": {
        "colab": {
          "base_uri": "https://localhost:8080/"
        },
        "id": "y3Z5MGmHNaXj",
        "outputId": "7b9bb4f6-a385-48a5-cf9a-0d91def8084b"
      },
      "outputs": [
        {
          "output_type": "stream",
          "name": "stderr",
          "text": [
            "[nltk_data] Downloading package punkt to /root/nltk_data...\n",
            "[nltk_data]   Package punkt is already up-to-date!\n",
            "[nltk_data] Downloading package stopwords to /root/nltk_data...\n",
            "[nltk_data]   Package stopwords is already up-to-date!\n",
            "[nltk_data] Downloading package wordnet to /root/nltk_data...\n",
            "[nltk_data]   Package wordnet is already up-to-date!\n",
            "[nltk_data] Downloading package omw-1.4 to /root/nltk_data...\n",
            "[nltk_data]   Package omw-1.4 is already up-to-date!\n"
          ]
        },
        {
          "output_type": "execute_result",
          "data": {
            "text/plain": [
              "True"
            ]
          },
          "metadata": {},
          "execution_count": 36
        }
      ],
      "source": [
        "import nltk\n",
        "nltk.download('punkt')\n",
        "nltk.download('stopwords')\n",
        "nltk.download('wordnet')\n",
        "nltk.download('omw-1.4')"
      ]
    },
    {
      "cell_type": "code",
      "source": [
        "paragraph=\"Are you fascinated by the amount of text data available on the internet? Are you looking for ways to work with this text data but aren’t sure where to begin? Machines, after all, recognize numbers, not the letters of our language. And that can be a tricky landscape to navigate in machine learning.\"\n",
        "tkzr=nltk.data.load(\"tokenizers/punkt/english.pickle\")\n",
        "sentences=tkzr.tokenize(paragraph)\n",
        "print(sentences)"
      ],
      "metadata": {
        "id": "qziB2Wi8Pjp-",
        "outputId": "41bfcda5-c93e-4072-8060-50f51df3cb09",
        "colab": {
          "base_uri": "https://localhost:8080/"
        }
      },
      "execution_count": 37,
      "outputs": [
        {
          "output_type": "stream",
          "name": "stdout",
          "text": [
            "['Are you fascinated by the amount of text data available on the internet?', 'Are you looking for ways to work with this text data but aren’t sure where to begin?', 'Machines, after all, recognize numbers, not the letters of our language.', 'And that can be a tricky landscape to navigate in machine learning.']\n"
          ]
        }
      ]
    },
    {
      "cell_type": "markdown",
      "source": [
        "**2. Split the above paragraph into words**"
      ],
      "metadata": {
        "id": "vkX-DNeoXBsI"
      }
    },
    {
      "cell_type": "code",
      "source": [
        "from nltk.tokenize import word_tokenize"
      ],
      "metadata": {
        "id": "eHll1mNbacap"
      },
      "execution_count": 38,
      "outputs": []
    },
    {
      "cell_type": "code",
      "source": [
        "paragraph=\"Are you fascinated by the amount of text data available on the internet? Are you looking for ways to work with this text data but aren’t sure where to begin? Machines, after all, recognize numbers, not the letters of our language. And that can be a tricky landscape to navigate in machine learning.\"\n",
        "words=nltk.tokenize.word_tokenize(paragraph)\n",
        "print(words)"
      ],
      "metadata": {
        "id": "drHGwoG2YRbf",
        "outputId": "d7384610-afd2-460a-a17d-9e8060e7cd59",
        "colab": {
          "base_uri": "https://localhost:8080/"
        }
      },
      "execution_count": 39,
      "outputs": [
        {
          "output_type": "stream",
          "name": "stdout",
          "text": [
            "['Are', 'you', 'fascinated', 'by', 'the', 'amount', 'of', 'text', 'data', 'available', 'on', 'the', 'internet', '?', 'Are', 'you', 'looking', 'for', 'ways', 'to', 'work', 'with', 'this', 'text', 'data', 'but', 'aren', '’', 't', 'sure', 'where', 'to', 'begin', '?', 'Machines', ',', 'after', 'all', ',', 'recognize', 'numbers', ',', 'not', 'the', 'letters', 'of', 'our', 'language', '.', 'And', 'that', 'can', 'be', 'a', 'tricky', 'landscape', 'to', 'navigate', 'in', 'machine', 'learning', '.']\n"
          ]
        }
      ]
    },
    {
      "cell_type": "markdown",
      "source": [
        " **8. Find BoW for the given paragraph? And also find stem and lemma words?**\n",
        "\n",
        "**Text Summarization is one of those applications of Natural Language Processing (NLP) \n",
        "which  is  bound  to  have  a  huge  impact  on  our  lives.  With  growing  digital  media  and \n",
        "ever-growing publishing – who has the time to go through entire articles / documents / \n",
        "books to decide whether they are useful or not? Thankfully – this technology is already \n",
        "here.**"
      ],
      "metadata": {
        "id": "H66Xw3VDY8YB"
      }
    },
    {
      "cell_type": "code",
      "source": [
        "from nltk.corpus import stopwords\n",
        "from nltk.stem import PorterStemmer,WordNetLemmatizer"
      ],
      "metadata": {
        "id": "uvgRmhwyY_Rr"
      },
      "execution_count": 43,
      "outputs": []
    },
    {
      "cell_type": "code",
      "source": [
        "paragraph=\"Text Summarization is one of those applications of Natural Language Processing (NLP) which is bound to have a huge impact on our lives. With growing digital media and ever-growing publishing – who has the time to go through entire articles / documents / books to decide whether they are useful or not? Thankfully – this technology is already here.\"\n",
        "stop_words=set(stopwords.words('english'))"
      ],
      "metadata": {
        "id": "4H1Se7tcZ9_X"
      },
      "execution_count": 44,
      "outputs": []
    },
    {
      "cell_type": "code",
      "source": [
        "result=word_tokenize(paragraph)\n",
        "BOW=[]\n",
        "for i in result:\n",
        "  if i not in stop_words:\n",
        "    BOW.append(i)\n",
        "    BOW.append(\" \")\n",
        "\"\".join(BOW)"
      ],
      "metadata": {
        "id": "ManZjam8aou0",
        "outputId": "ff817d03-39a3-4127-c797-eb8cf7ac1f1a",
        "colab": {
          "base_uri": "https://localhost:8080/",
          "height": 52
        }
      },
      "execution_count": 45,
      "outputs": [
        {
          "output_type": "execute_result",
          "data": {
            "text/plain": [
              "'Text Summarization one applications Natural Language Processing ( NLP ) bound huge impact lives . With growing digital media ever-growing publishing – time go entire articles / documents / books decide whether useful ? Thankfully – technology already . '"
            ],
            "application/vnd.google.colaboratory.intrinsic+json": {
              "type": "string"
            }
          },
          "metadata": {},
          "execution_count": 45
        }
      ]
    },
    {
      "cell_type": "code",
      "source": [
        "pts=PorterStemmer()\n",
        "paragraph=\"Text Summarization is one of those applications of Natural Language Processing (NLP) which is bound to have a huge impact on our lives. With growing digital media and ever-growing publishing – who has the time to go through entire articles / documents / books to decide whether they are useful or not? Thankfully – this technology is already here.\"\n",
        "words=nltk.tokenize.word_tokenize(paragraph)\n",
        "print(words)"
      ],
      "metadata": {
        "id": "8v9JS-MPbGaV",
        "outputId": "5adc4d44-2c24-44c4-f357-62f7728c2fec",
        "colab": {
          "base_uri": "https://localhost:8080/"
        }
      },
      "execution_count": 47,
      "outputs": [
        {
          "output_type": "stream",
          "name": "stdout",
          "text": [
            "['Text', 'Summarization', 'is', 'one', 'of', 'those', 'applications', 'of', 'Natural', 'Language', 'Processing', '(', 'NLP', ')', 'which', 'is', 'bound', 'to', 'have', 'a', 'huge', 'impact', 'on', 'our', 'lives', '.', 'With', 'growing', 'digital', 'media', 'and', 'ever-growing', 'publishing', '–', 'who', 'has', 'the', 'time', 'to', 'go', 'through', 'entire', 'articles', '/', 'documents', '/', 'books', 'to', 'decide', 'whether', 'they', 'are', 'useful', 'or', 'not', '?', 'Thankfully', '–', 'this', 'technology', 'is', 'already', 'here', '.']\n"
          ]
        }
      ]
    },
    {
      "cell_type": "code",
      "source": [
        "for word in words:\n",
        "  print(pts.stem(word))"
      ],
      "metadata": {
        "id": "d2iLxp2BbWYk",
        "outputId": "1516560a-f720-4ecf-eb92-cd11df2ce180",
        "colab": {
          "base_uri": "https://localhost:8080/"
        }
      },
      "execution_count": 48,
      "outputs": [
        {
          "output_type": "stream",
          "name": "stdout",
          "text": [
            "text\n",
            "summar\n",
            "is\n",
            "one\n",
            "of\n",
            "those\n",
            "applic\n",
            "of\n",
            "natur\n",
            "languag\n",
            "process\n",
            "(\n",
            "nlp\n",
            ")\n",
            "which\n",
            "is\n",
            "bound\n",
            "to\n",
            "have\n",
            "a\n",
            "huge\n",
            "impact\n",
            "on\n",
            "our\n",
            "live\n",
            ".\n",
            "with\n",
            "grow\n",
            "digit\n",
            "media\n",
            "and\n",
            "ever-grow\n",
            "publish\n",
            "–\n",
            "who\n",
            "ha\n",
            "the\n",
            "time\n",
            "to\n",
            "go\n",
            "through\n",
            "entir\n",
            "articl\n",
            "/\n",
            "document\n",
            "/\n",
            "book\n",
            "to\n",
            "decid\n",
            "whether\n",
            "they\n",
            "are\n",
            "use\n",
            "or\n",
            "not\n",
            "?\n",
            "thank\n",
            "–\n",
            "thi\n",
            "technolog\n",
            "is\n",
            "alreadi\n",
            "here\n",
            ".\n"
          ]
        }
      ]
    },
    {
      "cell_type": "code",
      "source": [
        "lmw =WordNetLemmatizer()\n",
        "for word in words:\n",
        "  print(lmw.lemmatize(word,pos='v'))"
      ],
      "metadata": {
        "id": "zgtYsp75cU-P",
        "outputId": "1d80904b-d0fc-44a4-e1cf-0399fe9291b9",
        "colab": {
          "base_uri": "https://localhost:8080/"
        }
      },
      "execution_count": 49,
      "outputs": [
        {
          "output_type": "stream",
          "name": "stdout",
          "text": [
            "Text\n",
            "Summarization\n",
            "be\n",
            "one\n",
            "of\n",
            "those\n",
            "applications\n",
            "of\n",
            "Natural\n",
            "Language\n",
            "Processing\n",
            "(\n",
            "NLP\n",
            ")\n",
            "which\n",
            "be\n",
            "bind\n",
            "to\n",
            "have\n",
            "a\n",
            "huge\n",
            "impact\n",
            "on\n",
            "our\n",
            "live\n",
            ".\n",
            "With\n",
            "grow\n",
            "digital\n",
            "media\n",
            "and\n",
            "ever-growing\n",
            "publish\n",
            "–\n",
            "who\n",
            "have\n",
            "the\n",
            "time\n",
            "to\n",
            "go\n",
            "through\n",
            "entire\n",
            "article\n",
            "/\n",
            "document\n",
            "/\n",
            "book\n",
            "to\n",
            "decide\n",
            "whether\n",
            "they\n",
            "be\n",
            "useful\n",
            "or\n",
            "not\n",
            "?\n",
            "Thankfully\n",
            "–\n",
            "this\n",
            "technology\n",
            "be\n",
            "already\n",
            "here\n",
            ".\n"
          ]
        }
      ]
    }
  ]
}